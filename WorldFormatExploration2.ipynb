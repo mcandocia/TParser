{
 "cells": [
  {
   "cell_type": "code",
   "execution_count": 2,
   "metadata": {
    "collapsed": false
   },
   "outputs": [],
   "source": [
    "#two files will be analyzed,\n",
    "#Eeloo.wld: A well-traversed expert mode small map with\n",
    "#* Corruption\n",
    "#* Copper, Iron, Tungsten, Gold, Palladium, Mythril, and Adamantite\n",
    "#* All bosses except Duke Fishron defeated\n",
    "#* All NPCs (including Santa)\n",
    "#BigWorld.wld: A mostly new normal mode large map with\n",
    "# * Crimson\n",
    "# * Tin, Lead, ???\n",
    "# * Only the guide and angler NPCs\n",
    "# * Some interesting objects placed in the upper left-hand corner\n",
    "#   of the map going downward, including a chest (containing , \n",
    "#   a chlorophyte bar dirt, silk, and other objects), gold coin stack, \n",
    "#   silver coin stack, mushroom work bench, wiring (yellow (1), blue(3), \n",
    "#   and red(2); many palm platforms; a sign with 2323232323 written on\n",
    "#   it\n",
    "#open relevant files\n",
    "import struct\n",
    "filename1 = 'Eeloo.wld'\n",
    "filename2 = 'BigWorld.wld'\n",
    "f = open(filename1,'rb')\n",
    "g = open(filename2,'rb')"
   ]
  },
  {
   "cell_type": "code",
   "execution_count": 16,
   "metadata": {
    "collapsed": true
   },
   "outputs": [],
   "source": [
    "#define functions to read bytes\n",
    "\n",
    "def seeker(f):\n",
    "    \"\"\"decorator to allow easy seeking\"\"\"\n",
    "    def decorated(*args, **kwargs):\n",
    "        if kwargs.get('seek',None) is not None:\n",
    "            args[0].seek(kwargs['seek'])\n",
    "        return f(*args)\n",
    "    return decorated\n",
    "\n",
    "@seeker\n",
    "def int32(obj):\n",
    "    data = obj.read(4)\n",
    "    return struct.unpack(\"<I\", data)[0]\n",
    "\n",
    "@seeker\n",
    "def int16(obj):\n",
    "    data = obj.read(2)\n",
    "    return struct.unpack(\"<H\", data)[0]\n",
    "\n",
    "@seeker\n",
    "def byte(obj):\n",
    "    data = obj.read(1)\n",
    "    return struct.unpack(\"<B\",data)[0]\n",
    "\n",
    "@seeker\n",
    "def string(obj, length):\n",
    "    data = obj.read(length)\n",
    "    return struct.unpack(\"<%ds\" %length,data)\n",
    "\n",
    "@seeker\n",
    "def int64(obj):\n",
    "    data = obj.read(8)\n",
    "    return struct.unpack(\"<Q\", data)[0]\n",
    "\n",
    "@seeker\n",
    "def float32(obj):\n",
    "    data = obj.read(4)\n",
    "    return struct.unpack(\"<f\", data)[0]\n",
    "\n",
    "@seeker\n",
    "def float64(obj):\n",
    "    data = obj.read(8)\n",
    "    return struct.unpack(\"<d\", data)[0]\n",
    "\n",
    "@seeker\n",
    "def char(obj):\n",
    "    data = obj.read(1)\n",
    "    return struct.unpack('<c', data)[0]\n",
    "\n"
   ]
  },
  {
   "cell_type": "code",
   "execution_count": 17,
   "metadata": {
    "collapsed": false
   },
   "outputs": [
    {
     "name": "stdout",
     "output_type": "stream",
     "text": [
      "188 188\n"
     ]
    }
   ],
   "source": [
    "(version1, version2) = (int32(f,seek=0),int32(g,seek=0))\n",
    "print version1, version2"
   ]
  },
  {
   "cell_type": "code",
   "execution_count": 18,
   "metadata": {
    "collapsed": false
   },
   "outputs": [
    {
     "name": "stdout",
     "output_type": "stream",
     "text": [
      "59 59\n"
     ]
    }
   ],
   "source": [
    "(namesize1, namesize2) = (byte(f,seek=0x79), byte(g,seek=0x79))\n",
    "print namesize1, namesize2\n",
    "#59 59 is a strange result, but it's consistent..."
   ]
  },
  {
   "cell_type": "code",
   "execution_count": 19,
   "metadata": {
    "collapsed": false
   },
   "outputs": [
    {
     "name": "stdout",
     "output_type": "stream",
     "text": [
      "('\\xf8?\\xf0\\xe3\\x07\\x05Eeloo\\n1441374647\\x01\\x00\\x00\\x00\\xbb\\x00\\x00\\x00r\\xbft\\xed\\x1f\\x91\\x1bG\\x82\\xb9f{X\\x7f\\xf8=K$JG\\x00\\x00\\x00\\x00\\x80\\x06\\x01\\x00\\x00',)\n",
      "('\\xf8?\\xf0\\xe3\\x07\\x08BigWorld\\x0884852984\\x01\\x00\\x00\\x00\\xbc\\x00\\x00\\x00l\\xc3\\x889\\xc5B\\xa6F\\x81\\x9f\\xa5\\xb3kA\\xf0\\xa9\\xd7=R^\\x00\\x00\\x00\\x00\\x00\\r\\x02\\x00',)\n"
     ]
    }
   ],
   "source": [
    "(name1, name2) = (string(f,namesize1, seek=0x7A),\n",
    "                  string(g,namesize2, seek=0x7A))\n",
    "print name1\n",
    "print name2\n",
    "#okay, so both of these have the name contained here,\n",
    "#and they start at the same position (6 after 0x7A, or 0x80)\n",
    "#the world ID is supposed to come after it (4 bytes), and the name\n",
    "#is incorporated into the .map filenames under .plr files, which, for\n",
    "#a particular character for these two maps is\n",
    "#ed74bf72-911f-471b-82b9-667b587ff83d (Eeloo)\n",
    "#3988c36c-42c5-46a6-819f-a5b36b41f0a9 (BigWorld)\n",
    "#let's try converting the names to Hex"
   ]
  },
  {
   "cell_type": "code",
   "execution_count": 20,
   "metadata": {
    "collapsed": false
   },
   "outputs": [
    {
     "name": "stdout",
     "output_type": "stream",
     "text": [
      "f83ff0e3070545656c6f6f0a3134343133373436343701000000bb00000072bf74ed1f911b4782b9667b587ff83d4b244a47000000008006010000\n",
      "f83ff0e30708426967576f726c6408383438353239383401000000bc0000006cc38839c542a646819fa5b36b41f0a9d73d525e00000000000d0200\n"
     ]
    }
   ],
   "source": [
    "print name1[0].encode('hex')\n",
    "print name2[0].encode('hex')\n",
    "#the IDs can be seen to be representative of the filenames above, but\n",
    "#the IDs are split into two parts with different endianness for them\n",
    "#the first 4 bytes are reversed for the first part\n",
    "#the next 2 bytes are reversed for the second part\n",
    "#the next 2 bytes are reversed for the third part\n",
    "#the next 2 bytes are in order for the fourth part\n",
    "#the next 6 bytes are in order for the fifth part\n",
    "#ergo, the map ID for this version is 16 bytes,\n",
    "#the .map filename maker reverses the first 8"
   ]
  },
  {
   "cell_type": "code",
   "execution_count": null,
   "metadata": {
    "collapsed": true
   },
   "outputs": [],
   "source": []
  }
 ],
 "metadata": {
  "kernelspec": {
   "display_name": "Python 2",
   "language": "python",
   "name": "python2"
  },
  "language_info": {
   "codemirror_mode": {
    "name": "ipython",
    "version": 2
   },
   "file_extension": ".py",
   "mimetype": "text/x-python",
   "name": "python",
   "nbconvert_exporter": "python",
   "pygments_lexer": "ipython2",
   "version": "2.7.12"
  }
 },
 "nbformat": 4,
 "nbformat_minor": 2
}
