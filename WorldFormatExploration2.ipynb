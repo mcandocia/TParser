{
 "cells": [
  {
   "cell_type": "code",
   "execution_count": 2,
   "metadata": {
    "collapsed": false
   },
   "outputs": [],
   "source": [
    "#two files will be analyzed,\n",
    "#Eeloo.wld: A well-traversed expert mode small map with\n",
    "#* Corruption\n",
    "#* Copper, Iron, Tungsten, Gold, Palladium, Mythril, and Adamantite\n",
    "#* All bosses except Duke Fishron defeated\n",
    "#* All NPCs (including Santa)\n",
    "#BigWorld.wld: A mostly new normal mode large map with\n",
    "# * Crimson\n",
    "# * Tin, Lead, ???\n",
    "# * Only the guide and angler NPCs\n",
    "# * Some interesting objects placed in the upper left-hand corner\n",
    "#   of the map going downward, including a chest (containing , \n",
    "#   a chlorophyte bar dirt, silk, and other objects), gold coin stack, \n",
    "#   silver coin stack, mushroom work bench, wiring (yellow (1), blue(3), \n",
    "#   and red(2); many palm platforms; a sign with 2323232323 written on\n",
    "#   it\n",
    "#open relevant files\n",
    "import struct\n",
    "filename1 = 'Eeloo.wld'\n",
    "filename2 = 'BigWorld.wld'\n",
    "f = open(filename1,'rb')\n",
    "g = open(filename2,'rb')"
   ]
  },
  {
   "cell_type": "code",
   "execution_count": 42,
   "metadata": {
    "collapsed": true
   },
   "outputs": [],
   "source": [
    "#define functions to read bytes\n",
    "\n",
    "def seeker(f):\n",
    "    \"\"\"decorator to allow easy seeking\"\"\"\n",
    "    def decorated(*args, **kwargs):\n",
    "        if kwargs.get('seek',None) is not None:\n",
    "            args[0].seek(kwargs['seek'])\n",
    "        return f(*args)\n",
    "    return decorated\n",
    "\n",
    "@seeker\n",
    "def int32(obj):\n",
    "    data = obj.read(4)\n",
    "    return struct.unpack(\"<I\", data)[0]\n",
    "\n",
    "@seeker\n",
    "def int16(obj):\n",
    "    data = obj.read(2)\n",
    "    return struct.unpack(\"<H\", data)[0]\n",
    "\n",
    "@seeker\n",
    "def byte(obj):\n",
    "    data = obj.read(1)\n",
    "    return struct.unpack(\"<B\",data)[0]\n",
    "\n",
    "@seeker\n",
    "def string(obj, length):\n",
    "    data = obj.read(length)\n",
    "    return struct.unpack(\"<%ds\" %length,data)\n",
    "\n",
    "@seeker\n",
    "def hexstring(obj, length):\n",
    "    data = obj.read(length)\n",
    "    return struct.unpack(\"<%ds\" %length,data)[0].encode('hex')\n",
    "\n",
    "@seeker\n",
    "def int64(obj):\n",
    "    data = obj.read(8)\n",
    "    return struct.unpack(\"<Q\", data)[0]\n",
    "\n",
    "@seeker\n",
    "def float32(obj):\n",
    "    data = obj.read(4)\n",
    "    return struct.unpack(\"<f\", data)[0]\n",
    "\n",
    "@seeker\n",
    "def float64(obj):\n",
    "    data = obj.read(8)\n",
    "    return struct.unpack(\"<d\", data)[0]\n",
    "\n",
    "@seeker\n",
    "def char(obj):\n",
    "    data = obj.read(1)\n",
    "    return struct.unpack('<c', data)[0]\n",
    "\n"
   ]
  },
  {
   "cell_type": "code",
   "execution_count": 17,
   "metadata": {
    "collapsed": false
   },
   "outputs": [
    {
     "name": "stdout",
     "output_type": "stream",
     "text": [
      "188 188\n"
     ]
    }
   ],
   "source": [
    "(version1, version2) = (int32(f,seek=0),int32(g,seek=0))\n",
    "print version1, version2"
   ]
  },
  {
   "cell_type": "code",
   "execution_count": 18,
   "metadata": {
    "collapsed": false
   },
   "outputs": [
    {
     "name": "stdout",
     "output_type": "stream",
     "text": [
      "59 59\n"
     ]
    }
   ],
   "source": [
    "(namesize1, namesize2) = (byte(f,seek=0x79), byte(g,seek=0x79))\n",
    "print namesize1, namesize2\n",
    "#59 59 is a strange result, but it's consistent..."
   ]
  },
  {
   "cell_type": "code",
   "execution_count": 19,
   "metadata": {
    "collapsed": false
   },
   "outputs": [
    {
     "name": "stdout",
     "output_type": "stream",
     "text": [
      "('\\xf8?\\xf0\\xe3\\x07\\x05Eeloo\\n1441374647\\x01\\x00\\x00\\x00\\xbb\\x00\\x00\\x00r\\xbft\\xed\\x1f\\x91\\x1bG\\x82\\xb9f{X\\x7f\\xf8=K$JG\\x00\\x00\\x00\\x00\\x80\\x06\\x01\\x00\\x00',)\n",
      "('\\xf8?\\xf0\\xe3\\x07\\x08BigWorld\\x0884852984\\x01\\x00\\x00\\x00\\xbc\\x00\\x00\\x00l\\xc3\\x889\\xc5B\\xa6F\\x81\\x9f\\xa5\\xb3kA\\xf0\\xa9\\xd7=R^\\x00\\x00\\x00\\x00\\x00\\r\\x02\\x00',)\n"
     ]
    }
   ],
   "source": [
    "(name1, name2) = (string(f,namesize1, seek=0x7A),\n",
    "                  string(g,namesize2, seek=0x7A))\n",
    "print name1\n",
    "print name2\n",
    "#okay, so both of these have the name contained here,\n",
    "#and they start at the same position (6 after 0x7A, or 0x80)\n",
    "#the world ID is supposed to come after it (4 bytes), and the name\n",
    "#is incorporated into the .map filenames under .plr files, which, for\n",
    "#a particular character for these two maps is\n",
    "#ed74bf72-911f-471b-82b9-667b587ff83d (Eeloo)\n",
    "#3988c36c-42c5-46a6-819f-a5b36b41f0a9 (BigWorld)\n",
    "#let's try converting the names to Hex"
   ]
  },
  {
   "cell_type": "code",
   "execution_count": 20,
   "metadata": {
    "collapsed": false
   },
   "outputs": [
    {
     "name": "stdout",
     "output_type": "stream",
     "text": [
      "f83ff0e3070545656c6f6f0a3134343133373436343701000000bb00000072bf74ed1f911b4782b9667b587ff83d4b244a47000000008006010000\n",
      "f83ff0e30708426967576f726c6408383438353239383401000000bc0000006cc38839c542a646819fa5b36b41f0a9d73d525e00000000000d0200\n"
     ]
    }
   ],
   "source": [
    "print name1[0].encode('hex')\n",
    "print name2[0].encode('hex')\n",
    "#the IDs can be seen to be representative of the filenames above, but\n",
    "#the IDs are split into two parts with different endianness for them\n",
    "#the first 4 bytes are reversed for the first part\n",
    "#the next 2 bytes are reversed for the second part\n",
    "#the next 2 bytes are reversed for the third part\n",
    "#the next 2 bytes are in order for the fourth part\n",
    "#the next 6 bytes are in order for the fifth part\n",
    "#ergo, the map ID for this version is 16 bytes,\n",
    "#the .map filename maker reverses the first 8\n",
    "#the location of the map ID is 30 bytes after 0x80 for Eeloo, and\n",
    "#31 bytes after 0x80 for BigWorld; this is concerning because\n",
    "#BigWorld is 3 more bytes in name length, and only differences of  \n",
    "#0 (indicating padded data) and 3 bytes would make sense...\n",
    "#maybe there is an issue with the different world types and a third/fourth \n",
    "#should be included for reference"
   ]
  },
  {
   "cell_type": "code",
   "execution_count": 21,
   "metadata": {
    "collapsed": true
   },
   "outputs": [],
   "source": [
    "filename3 = 'Duna.wld'\n",
    "filename4 = 'Jool.wld'#yes, this is a KSP reference\n",
    "h = open(filename3,'rb')\n",
    "j = open(filename4,'rb')\n",
    "#Duna is a large, pre-hardmode world with a small amount of building\n",
    "#and a merchant NPC (also has copper)\n",
    "#Jool is a large, pre-hardmode world that is untouched and is in \n",
    "#expert mode"
   ]
  },
  {
   "cell_type": "code",
   "execution_count": 23,
   "metadata": {
    "collapsed": false
   },
   "outputs": [
    {
     "name": "stdout",
     "output_type": "stream",
     "text": [
      "59 59\n"
     ]
    }
   ],
   "source": [
    "(namesize3, namesize4) = (byte(h,seek=0x79), byte(j,seek=0x79))\n",
    "print namesize1, namesize2"
   ]
  },
  {
   "cell_type": "code",
   "execution_count": 24,
   "metadata": {
    "collapsed": false
   },
   "outputs": [
    {
     "name": "stdout",
     "output_type": "stream",
     "text": [
      "('\\xf8?\\xf0\\xe3\\x07\\x04Duna\\n2116190617\\x01\\x00\\x00\\x00\\xbc\\x00\\x00\\x00\\xfa&\\xe2/\\x9a\\x8f\\xe3N\\xb3\\xd51\\x08D\\xdd\\xd8]`jk\\x0e\\x00\\x00\\x00\\x00\\x00\\r\\x02\\x00\\x00\\x00',)\n",
      "('\\xf8?\\xf0\\xe3\\x07\\x04Jool\\n1983026486\\x01\\x00\\x00\\x00\\xbc\\x00\\x00\\x00[\\x88\\x1e\\xd5\\xc3\\xe2\\x14B\\x9d\\xb9R\\xaf9e\\xd9)\\x04\\xe8\\xe5Q\\x00\\x00\\x00\\x00\\x00\\r\\x02\\x00\\x00\\x00',)\n"
     ]
    }
   ],
   "source": [
    "(name3, name4) = (string(h,namesize3, seek=0x7A),\n",
    "                  string(j,namesize4, seek=0x7A))\n",
    "print name3\n",
    "print name4"
   ]
  },
  {
   "cell_type": "code",
   "execution_count": 25,
   "metadata": {
    "collapsed": false
   },
   "outputs": [
    {
     "name": "stdout",
     "output_type": "stream",
     "text": [
      "f83ff0e3070444756e610a3231313631393036313701000000bc000000fa26e22f9a8fe34eb3d5310844ddd85d606a6b0e00000000000d02000000\n",
      "f83ff0e307044a6f6f6c0a3139383330323634383601000000bc0000005b881ed5c3e214429db952af3965d92904e8e55100000000000d02000000\n"
     ]
    }
   ],
   "source": [
    "print name3[0].encode('hex')\n",
    "print name4[0].encode('hex')\n",
    "#both of these have the IDs 29 bytes after 0x7A...\n",
    "#this is consistent with Eeloo's being 30 (since the filename is 1\n",
    "#byte longer), but BigWorld (which was generated most recently)\n",
    "#is still a mystery...let's add 1 last file"
   ]
  },
  {
   "cell_type": "code",
   "execution_count": 26,
   "metadata": {
    "collapsed": true
   },
   "outputs": [],
   "source": [
    "filename5 = 'MediumWorld.wld'\n",
    "k = open(filename5,'rb')\n",
    "#MediumWorld is a mostly untouched medium-sized crimson world that\n",
    "#only has wall of flesh defeated (so it's hardmode)\n",
    "#it has tin, lead, and silver"
   ]
  },
  {
   "cell_type": "code",
   "execution_count": 28,
   "metadata": {
    "collapsed": false
   },
   "outputs": [
    {
     "name": "stdout",
     "output_type": "stream",
     "text": [
      "('\\xf8?\\xf0\\xe3\\x07\\x0bMediumWorld\\n1013350376\\x01\\x00\\x00\\x00\\xbc\\x00\\x00\\x00\"=\\xf9\\x7f\\xe6\\xbf\\x9dG\\x83\\x8a\\xadB\\xde\\x82J\\xff|y\\x0fp\\x00\\x00\\x00',)\n",
      "f83ff0e3070b4d656469756d576f726c640a3130313333353033373601000000bc000000223df97fe6bf9d47838aad42de824aff7c790f70000000\n"
     ]
    }
   ],
   "source": [
    "name5 = string(k,59, seek=0x7A)\n",
    "print name5\n",
    "print name5[0].encode('hex')\n",
    "#ID starts 36 bytes after 0x7A, consistent with everything but BigWorld"
   ]
  },
  {
   "cell_type": "code",
   "execution_count": 41,
   "metadata": {
    "collapsed": false
   },
   "outputs": [
    {
     "data": {
      "text/plain": [
       "[('\\xf8?\\xf0\\xe3\\x07\\x05Eeloo\\n1441374647\\x01\\x00\\x00\\x00\\xbb\\x00\\x00\\x00r\\xbft\\xed\\x1f\\x91\\x1bG\\x82\\xb9f{X\\x7f\\xf8=K$JG\\x00\\x00\\x00\\x00\\x80\\x06\\x01\\x00\\x00',),\n",
       " ('\\xf8?\\xf0\\xe3\\x07\\x08BigWorld\\x0884852984\\x01\\x00\\x00\\x00\\xbc\\x00\\x00\\x00l\\xc3\\x889\\xc5B\\xa6F\\x81\\x9f\\xa5\\xb3kA\\xf0\\xa9\\xd7=R^\\x00\\x00\\x00\\x00\\x00\\r\\x02\\x00',),\n",
       " ('\\xf8?\\xf0\\xe3\\x07\\x04Duna\\n2116190617\\x01\\x00\\x00\\x00\\xbc\\x00\\x00\\x00\\xfa&\\xe2/\\x9a\\x8f\\xe3N\\xb3\\xd51\\x08D\\xdd\\xd8]`jk\\x0e\\x00\\x00\\x00\\x00\\x00\\r\\x02\\x00\\x00\\x00',),\n",
       " ('\\xf8?\\xf0\\xe3\\x07\\x04Jool\\n1983026486\\x01\\x00\\x00\\x00\\xbc\\x00\\x00\\x00[\\x88\\x1e\\xd5\\xc3\\xe2\\x14B\\x9d\\xb9R\\xaf9e\\xd9)\\x04\\xe8\\xe5Q\\x00\\x00\\x00\\x00\\x00\\r\\x02\\x00\\x00\\x00',),\n",
       " ('\\xf8?\\xf0\\xe3\\x07\\x0bMediumWorld\\n1013350376\\x01\\x00\\x00\\x00\\xbc\\x00\\x00\\x00\"=\\xf9\\x7f\\xe6\\xbf\\x9dG\\x83\\x8a\\xadB\\xde\\x82J\\xff|y\\x0fp\\x00\\x00\\x00',)]"
      ]
     },
     "execution_count": 41,
     "metadata": {},
     "output_type": "execute_result"
    }
   ],
   "source": [
    "#in order to analyze all of these better, \n",
    "#make a function that wraps f,g,h,j, and k in functions with the same \n",
    "#parameters or a parameter list\n",
    "\n",
    "def check_args(args, index):\n",
    "    args = list(args)\n",
    "    for i in range(len(args)):\n",
    "        if isinstance(args[i],list):\n",
    "            args[i] = args[i][index]\n",
    "    return args\n",
    "\n",
    "def check_kwargs(kwargs, index):\n",
    "    for key in kwargs.keys():\n",
    "        if isinstance(kwargs[key],list):\n",
    "            kwargs[key] = kwargs[key][index]\n",
    "    return kwargs\n",
    "\n",
    "def apply_all(func,*args,**kwargs):\n",
    "    data_list = (f, g, h, j, k)\n",
    "    results = []\n",
    "    for i, element in enumerate(data_list):\n",
    "        newargs = [element] + check_args(args, i)\n",
    "        kwargs = check_kwargs(kwargs, i)\n",
    "        result = func(*newargs, **kwargs)\n",
    "        results.append(result)\n",
    "    return results\n",
    "\n",
    "#test\n",
    "apply_all(string,59,seek=0x7A)"
   ]
  },
  {
   "cell_type": "code",
   "execution_count": 43,
   "metadata": {
    "collapsed": false
   },
   "outputs": [
    {
     "data": {
      "text/plain": [
       "['f83ff0e3070545656c6f6f0a3134343133373436343701000000bb00000072bf74ed1f911b4782b9667b587ff83d4b244a47000000008006010000',\n",
       " 'f83ff0e30708426967576f726c6408383438353239383401000000bc0000006cc38839c542a646819fa5b36b41f0a9d73d525e00000000000d0200',\n",
       " 'f83ff0e3070444756e610a3231313631393036313701000000bc000000fa26e22f9a8fe34eb3d5310844ddd85d606a6b0e00000000000d02000000',\n",
       " 'f83ff0e307044a6f6f6c0a3139383330323634383601000000bc0000005b881ed5c3e214429db952af3965d92904e8e55100000000000d02000000',\n",
       " 'f83ff0e3070b4d656469756d576f726c640a3130313333353033373601000000bc000000223df97fe6bf9d47838aad42de824aff7c790f70000000']"
      ]
     },
     "execution_count": 43,
     "metadata": {},
     "output_type": "execute_result"
    }
   ],
   "source": [
    "apply_all(hexstring,59,seek=0x7A)"
   ]
  },
  {
   "cell_type": "code",
   "execution_count": null,
   "metadata": {
    "collapsed": true
   },
   "outputs": [],
   "source": []
  }
 ],
 "metadata": {
  "kernelspec": {
   "display_name": "Python 2",
   "language": "python",
   "name": "python2"
  },
  "language_info": {
   "codemirror_mode": {
    "name": "ipython",
    "version": 2
   },
   "file_extension": ".py",
   "mimetype": "text/x-python",
   "name": "python",
   "nbconvert_exporter": "python",
   "pygments_lexer": "ipython2",
   "version": "2.7.12"
  }
 },
 "nbformat": 4,
 "nbformat_minor": 2
}
